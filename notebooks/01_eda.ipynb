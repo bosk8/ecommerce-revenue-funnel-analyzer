{
 "cells": [
  {
   "cell_type": "markdown",
   "metadata": {},
   "source": [
    "# Exploratory Data Analysis\n",
    "\n",
    "This notebook provides initial exploration of the e-commerce event data and funnel metrics."
   ]
  },
  {
   "cell_type": "code",
   "execution_count": null,
   "metadata": {},
   "outputs": [],
   "source": [
    "import pandas as pd\n",
    "import pathlib as p\n",
    "import matplotlib.pyplot as plt\n",
    "import seaborn as sns\n",
    "\n",
    "# Set style\n",
    "sns.set_style(\"whitegrid\")\n",
    "plt.rcParams['figure.figsize'] = (12, 6)\n",
    "\n",
    "# Paths\n",
    "ARTIFACTS = p.Path(\"../artifacts\")\n",
    "DATA_RAW = p.Path(\"../data/raw\")\n",
    "\n",
    "print(\"Setup complete!\")"
   ]
  },
  {
   "cell_type": "markdown",
   "metadata": {},
   "source": [
    "## 1. Data Profiling\n",
    "\n",
    "Load and profile the funnel session data."
   ]
  },
  {
   "cell_type": "code",
   "execution_count": null,
   "metadata": {},
   "outputs": [],
   "source": [
    "# Load funnel session data\n",
    "funnel_session = pd.read_csv(ARTIFACTS / \"funnel_session.csv\")\n",
    "print(f\"Shape: {funnel_session.shape}\")\n",
    "print(f\"\\nColumns: {list(funnel_session.columns)}\")\n",
    "funnel_session.head()"
   ]
  },
  {
   "cell_type": "code",
   "execution_count": null,
   "metadata": {},
   "outputs": [],
   "source": [
    "# Summary statistics\n",
    "funnel_session.describe()"
   ]
  },
  {
   "cell_type": "markdown",
   "metadata": {},
   "source": [
    "## 2. Event Distribution and Conversion Rates"
   ]
  },
  {
   "cell_type": "code",
   "execution_count": null,
   "metadata": {},
   "outputs": [],
   "source": [
    "# Calculate event counts and conversion rates\n",
    "total_views = funnel_session['has_view'].sum()\n",
    "total_carts = funnel_session['has_cart'].sum()\n",
    "total_purchases = funnel_session['has_purchase'].sum()\n",
    "\n",
    "print(f\"Total Sessions with Views: {total_views:,}\")\n",
    "print(f\"Total Sessions with Carts: {total_carts:,}\")\n",
    "print(f\"Total Sessions with Purchases: {total_purchases:,}\")\n",
    "\n",
    "if total_views > 0:\n",
    "    view_to_cart = (total_carts / total_views) * 100\n",
    "    print(f\"\\nView-to-Cart Rate: {view_to_cart:.2f}%\")\n",
    "\n",
    "if total_carts > 0:\n",
    "    cart_to_purchase = (total_purchases / total_carts) * 100\n",
    "    print(f\"Cart-to-Purchase Rate: {cart_to_purchase:.2f}%\")"
   ]
  },
  {
   "cell_type": "code",
   "execution_count": null,
   "metadata": {},
   "outputs": [],
   "source": [
    "# Visualize funnel\n",
    "fig, ax = plt.subplots(figsize=(8, 6))\n",
    "events = ['Views', 'Add to Cart', 'Purchase']\n",
    "counts = [total_views, total_carts, total_purchases]\n",
    "ax.bar(events, counts, color=['#3498db', '#e74c3c', '#2ecc71'])\n",
    "ax.set_ylabel('Number of Sessions')\n",
    "ax.set_title('Funnel Conversion')\n",
    "plt.xticks(rotation=45)\n",
    "plt.tight_layout()\n",
    "plt.show()"
   ]
  },
  {
   "cell_type": "markdown",
   "metadata": {},
   "source": [
    "## 3. SKU Drop-off Analysis"
   ]
  },
  {
   "cell_type": "code",
   "execution_count": null,
   "metadata": {},
   "outputs": [],
   "source": [
    "# Load SKU drop-off data\n",
    "try:\n",
    "    sku_dropoff = pd.read_csv(ARTIFACTS / \"sku_dropoff.csv\")\n",
    "    print(f\"SKUs analyzed: {len(sku_dropoff)}\")\n",
    "    print(f\"\\nTop 10 lowest converting SKUs:\")\n",
    "    sku_dropoff.head(10)\n",
    "except FileNotFoundError:\n",
    "    print(\"SKU drop-off analysis not yet run. Execute: python src/run_analytics.py\")"
   ]
  },
  {
   "cell_type": "markdown",
   "metadata": {},
   "source": [
    "## 4. Cohort Retention Analysis"
   ]
  },
  {
   "cell_type": "code",
   "execution_count": null,
   "metadata": {},
   "outputs": [],
   "source": [
    "# Load cohort retention data\n",
    "try:\n",
    "    cohort_retention = pd.read_csv(ARTIFACTS / \"cohort_retention.csv\")\n",
    "    print(f\"Cohort retention data loaded: {len(cohort_retention)} rows\")\n",
    "    cohort_retention.head()\n",
    "except FileNotFoundError:\n",
    "    print(\"Cohort retention analysis not yet run. Execute: python src/run_analytics.py\")"
   ]
  }
 ],
 "metadata": {
  "kernelspec": {
   "display_name": "Python 3",
   "language": "python",
   "name": "python3"
  },
  "language_info": {
   "name": "python",
   "version": "3.10.0"
  }
 },
 "nbformat": 4,
 "nbformat_minor": 4
}